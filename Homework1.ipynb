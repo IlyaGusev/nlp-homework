{
 "cells": [
  {
   "cell_type": "code",
   "execution_count": 252,
   "metadata": {
    "collapsed": false
   },
   "outputs": [],
   "source": [
    "# 2017\n",
    "# Автор: Гусев Илья, 294\n",
    "# Описание: первое задание по NLP. Spam-detection, bag of words, cv, grid-search.\n",
    "# Примечание: цифры кроссвалидации округляю до 3 знаков после точки, мне так удобнее, остальное вроде по требованиям. \n",
    "# Метрика - 'f1', надеюсь та.\n",
    "\n",
    "import pandas as pd\n",
    "import copy\n",
    "import numpy as np\n",
    "import re\n",
    "from nltk import word_tokenize\n",
    "from sklearn.feature_extraction.text import CountVectorizer, TfidfVectorizer\n",
    "from sklearn.linear_model import LogisticRegression\n",
    "from sklearn.model_selection import cross_val_score\n",
    "from sklearn.naive_bayes import MultinomialNB\n",
    "from nltk import pos_tag\n",
    "from sklearn.svm import LinearSVC\n",
    "from sklearn.model_selection import GridSearchCV\n",
    "from scipy.sparse import hstack\n",
    "from nltk.stem.snowball import SnowballStemmer\n",
    "morph_en = SnowballStemmer(\"english\")"
   ]
  },
  {
   "cell_type": "code",
   "execution_count": 229,
   "metadata": {
    "collapsed": false,
    "scrolled": true
   },
   "outputs": [
    {
     "data": {
      "text/html": [
       "<div>\n",
       "<table border=\"1\" class=\"dataframe\">\n",
       "  <thead>\n",
       "    <tr style=\"text-align: right;\">\n",
       "      <th></th>\n",
       "      <th>answer</th>\n",
       "      <th>text</th>\n",
       "    </tr>\n",
       "  </thead>\n",
       "  <tbody>\n",
       "    <tr>\n",
       "      <th>0</th>\n",
       "      <td>0</td>\n",
       "      <td>Ok lar... Joking wif u oni...</td>\n",
       "    </tr>\n",
       "    <tr>\n",
       "      <th>1</th>\n",
       "      <td>1</td>\n",
       "      <td>Free entry in 2 a wkly comp to win FA Cup fina...</td>\n",
       "    </tr>\n",
       "    <tr>\n",
       "      <th>2</th>\n",
       "      <td>0</td>\n",
       "      <td>U dun say so early hor... U c already then say...</td>\n",
       "    </tr>\n",
       "    <tr>\n",
       "      <th>3</th>\n",
       "      <td>0</td>\n",
       "      <td>Nah I don't think he goes to usf, he lives aro...</td>\n",
       "    </tr>\n",
       "    <tr>\n",
       "      <th>4</th>\n",
       "      <td>1</td>\n",
       "      <td>FreeMsg Hey there darling it's been 3 week's n...</td>\n",
       "    </tr>\n",
       "  </tbody>\n",
       "</table>\n",
       "</div>"
      ],
      "text/plain": [
       "   answer                                               text\n",
       "0       0                      Ok lar... Joking wif u oni...\n",
       "1       1  Free entry in 2 a wkly comp to win FA Cup fina...\n",
       "2       0  U dun say so early hor... U c already then say...\n",
       "3       0  Nah I don't think he goes to usf, he lives aro...\n",
       "4       1  FreeMsg Hey there darling it's been 3 week's n..."
      ]
     },
     "execution_count": 229,
     "metadata": {},
     "output_type": "execute_result"
    }
   ],
   "source": [
    "# Считываем данные. Пункт 2 и 3.\n",
    "train = pd.read_csv(\"SMSSpamCollection.csv\", header=0,names = [\"answer\", \"text\"], delimiter=\"\\t\", quoting=3)\n",
    "train.answer = train.answer.map(lambda x: int(x == \"spam\"))\n",
    "train.head(5)"
   ]
  },
  {
   "cell_type": "code",
   "execution_count": 230,
   "metadata": {
    "collapsed": true
   },
   "outputs": [],
   "source": [
    "# Для стемминга (10* пункт).\n",
    "def stem_sentence(sentence, language):\n",
    "    \"\"\"\n",
    "    Получение предложения, состоящего из основ слов изначального.\n",
    "    \"\"\"\n",
    "    words = text_to_wordlist(sentence)\n",
    "    for j in range(len(words)):\n",
    "        if language == 'en':\n",
    "            words[j] = morph_en.stem(words[j])\n",
    "    return \" \".join(words)"
   ]
  },
  {
   "cell_type": "code",
   "execution_count": 218,
   "metadata": {
    "collapsed": true
   },
   "outputs": [],
   "source": [
    "def bow(train_texts, test_texts, language='en', stem=False, tokenizer=None, preprocessor=None,\n",
    "        use_tfidf=False, max_features=None, bow_ngrams=(1,1), analyzer='word'):\n",
    "    \"\"\"\n",
    "    Обобщение BoW, можцно задавать n-граммы, стеммить, считать tf-idf.\n",
    "    \"\"\"\n",
    "    train = copy.deepcopy(train_texts)\n",
    "    test = copy.deepcopy(test_texts)\n",
    "    if stem:\n",
    "        for i in range(len(train)):\n",
    "            train[i] = stem_sentence(train[i], language)\n",
    "        for i in range(len(test)):\n",
    "            test[i] = stem_sentence(test[i], language)\n",
    "\n",
    "    if use_tfidf:\n",
    "        vectorizer = TfidfVectorizer(analyzer=analyzer, ngram_range=bow_ngrams, tokenizer=tokenizer,\n",
    "                                     preprocessor=preprocessor, max_features=max_features)\n",
    "    else:\n",
    "        vectorizer = CountVectorizer(analyzer=analyzer, ngram_range=bow_ngrams, tokenizer=tokenizer,\n",
    "                                     preprocessor=preprocessor, max_features=max_features)\n",
    "    data = train+test\n",
    "    data = vectorizer.fit_transform(data)\n",
    "    train_data = data[:len(train)]\n",
    "    test_data = data[len(train):]\n",
    "    return train_data, test_data"
   ]
  },
  {
   "cell_type": "code",
   "execution_count": 219,
   "metadata": {
    "collapsed": true
   },
   "outputs": [],
   "source": [
    "# Для POS-тегов (10* пункт).\n",
    "def text_to_wordlist(sentence, cyrillic=False):\n",
    "    \"\"\"\n",
    "    Самописная простейшая токенизация.\n",
    "    \"\"\"\n",
    "    regexp = \"[^а-яА-Яёa-zA-Z]\"\n",
    "    if cyrillic:\n",
    "        regexp = \"[^а-яА-Яё]\"\n",
    "    sentence = re.sub(regexp, \" \", sentence)\n",
    "    result = sentence.lower().split()\n",
    "    return result\n",
    "\n",
    "def get_sentence_tags(sentence):\n",
    "    \"\"\"\n",
    "    Получить частеречные теги слов в предложении.\n",
    "    \"\"\"\n",
    "    words = text_to_wordlist(sentence)\n",
    "    tags = []\n",
    "    if len(words) != 0:\n",
    "        tags = [i[1] for i in pos_tag(words)]\n",
    "    return \" \".join(tags)"
   ]
  },
  {
   "cell_type": "code",
   "execution_count": 258,
   "metadata": {
    "collapsed": false,
    "scrolled": true
   },
   "outputs": [],
   "source": [
    "# Собственно основные функции, задающие эксперименты.\n",
    "def cv(clf, train_data, train_answer, n):\n",
    "    \"\"\"\n",
    "    Кроссвалидация с заданным параметром и форматом вывода.\n",
    "    \"\"\"\n",
    "    cv_scores = cross_val_score(clf, train_data, train_answer, cv=n, scoring='f1')\n",
    "    return \"%0.3f\" % cv_scores.mean()\n",
    "\n",
    "def get_data(n_gram, use_tfidf=False, use_pos_tags=False, use_stemming=False):\n",
    "    \"\"\"\n",
    "    Получение нужных признаков из данных.\n",
    "    \"\"\"\n",
    "    train_data = bow(list(train.text), [], bow_ngrams=n_gram, \n",
    "                     use_tfidf=use_tfidf, stem=use_stemming)[0]\n",
    "    if use_pos_tags:\n",
    "        pos_train_data = []\n",
    "        for text in list(train.text):\n",
    "            pos_train_data.append(get_sentence_tags(text))\n",
    "        pos_data = bow(pos_train_data, [])[0]\n",
    "        train_data = hstack([train_data, pos_data])\n",
    "    return train_data\n",
    "\n",
    "def experiment(clf, n_grams, use_tfidf=False, use_pos_tags=False, use_stemming=False):\n",
    "    \"\"\"\n",
    "    Одиночный эксперимент с заданным классификатором и параметрами признаков.\n",
    "    \"\"\"\n",
    "    results = []\n",
    "    for n_gram in n_grams:\n",
    "        train_data = get_data(n_gram, use_tfidf, use_pos_tags, use_stemming)\n",
    "        results.append(cv(clf, train_data, list(train.answer), 10))\n",
    "    print(\" \".join(results))\n",
    "\n",
    "def grid_search(clf, tuned_parameters, use_tfidf=False, use_pos_tags=False, use_stemming=False):\n",
    "    \"\"\"\n",
    "    Поиск по сетке параметров классификатора с заданным классификатором и параметрами признаков.\n",
    "    \"\"\"\n",
    "    clf = GridSearchCV(clf, tuned_parameters, cv=10, scoring='f1')\n",
    "    clf.fit(get_data((1,1), use_tfidf, use_pos_tags, use_stemming), train.answer)\n",
    "\n",
    "    print(\"Best parameters set found on development set:\")\n",
    "    print(clf.best_params_)\n",
    "    print()\n",
    "    print(\"Grid scores on development set:\")\n",
    "    means = clf.cv_results_['mean_test_score']\n",
    "    stds = clf.cv_results_['std_test_score']\n",
    "    for mean, std, params in zip(means, stds, clf.cv_results_['params']):\n",
    "        print(\"%0.3f (+/-%0.03f) for %r\"\n",
    "              % (mean, std * 2, params))"
   ]
  },
  {
   "cell_type": "code",
   "execution_count": 232,
   "metadata": {
    "collapsed": false
   },
   "outputs": [
    {
     "name": "stdout",
     "output_type": "stream",
     "text": [
      "0.933\n"
     ]
    }
   ],
   "source": [
    "# Пункт 5.\n",
    "experiment(clf=LogisticRegression(), n_grams=[(1,1)])"
   ]
  },
  {
   "cell_type": "code",
   "execution_count": 233,
   "metadata": {
    "collapsed": false,
    "scrolled": true
   },
   "outputs": [
    {
     "name": "stdout",
     "output_type": "stream",
     "text": [
      "1 1 0 0 0\n"
     ]
    }
   ],
   "source": [
    "# Пункт 6.\n",
    "test = [\n",
    "    \"FreeMsg: Txt: CALL to No: 86888 & claim your reward of 3 hours talk time to use from your phone now! Subscribe6GB\",\n",
    "    \"FreeMsg: Txt: claim your reward of 3 hours talk time\",\n",
    "    \"Have you visited the last lecture on physics?\",\n",
    "    \"Have you visited the last lecture on physics? Just buy his book and you will have all materials! Only 99$\",\n",
    "    \"Only 99$\" \n",
    "]\n",
    "train_data, test_data = bow(list(train.text), test)\n",
    "clf = LogisticRegression()\n",
    "clf.fit(train_data, train.answer)\n",
    "print(\" \".join((str(i) for i in clf.predict(test_data))))"
   ]
  },
  {
   "cell_type": "code",
   "execution_count": 234,
   "metadata": {
    "collapsed": false
   },
   "outputs": [
    {
     "name": "stdout",
     "output_type": "stream",
     "text": [
      "0.822 0.725 0.925\n"
     ]
    }
   ],
   "source": [
    "# Пункт 7.\n",
    "experiment(clf=LogisticRegression(), n_grams=[(2,2), (3,3), (1,3)])"
   ]
  },
  {
   "cell_type": "code",
   "execution_count": 235,
   "metadata": {
    "collapsed": false,
    "scrolled": true
   },
   "outputs": [
    {
     "name": "stdout",
     "output_type": "stream",
     "text": [
      "0.645 0.379 0.888\n"
     ]
    }
   ],
   "source": [
    "# Пункт 8.\n",
    "experiment(clf=MultinomialNB(), n_grams=[(2,2), (3,3), (1,3)])"
   ]
  },
  {
   "cell_type": "code",
   "execution_count": 236,
   "metadata": {
    "collapsed": false,
    "scrolled": true
   },
   "outputs": [
    {
     "name": "stdout",
     "output_type": "stream",
     "text": [
      "0.853\n"
     ]
    }
   ],
   "source": [
    "# Пункт 9.\n",
    "experiment(clf=LogisticRegression(), n_grams=[(1,1)], use_tfidf=True)"
   ]
  },
  {
   "cell_type": "code",
   "execution_count": 178,
   "metadata": {
    "collapsed": false
   },
   "outputs": [
    {
     "name": "stdout",
     "output_type": "stream",
     "text": [
      "0.941\n"
     ]
    }
   ],
   "source": [
    "# А вот здесь уже интересно. Добавляем POS-теги - увеличиваем результат почти на 1%.\n",
    "experiment(clf=LogisticRegression(), n_grams=[(1,1)], use_pos_tags=True)"
   ]
  },
  {
   "cell_type": "code",
   "execution_count": 238,
   "metadata": {
    "collapsed": false,
    "scrolled": true
   },
   "outputs": [
    {
     "name": "stdout",
     "output_type": "stream",
     "text": [
      "0.939\n"
     ]
    }
   ],
   "source": [
    "# Стемминг даёт прирост в 0,5% по сравнению с изначальной версией.\n",
    "experiment(clf=LogisticRegression(), n_grams=[(1,1)], use_stemming=True)"
   ]
  },
  {
   "cell_type": "code",
   "execution_count": 239,
   "metadata": {
    "collapsed": false,
    "scrolled": false
   },
   "outputs": [
    {
     "name": "stdout",
     "output_type": "stream",
     "text": [
      "0.945\n"
     ]
    }
   ],
   "source": [
    "# Их совместное использование даёт ещё +0.4%, то есть почти полтора процента по сравнению с изначальной версией. \n",
    "experiment(clf=LogisticRegression(), n_grams=[(1,1)], use_pos_tags=True, use_stemming=True)"
   ]
  },
  {
   "cell_type": "code",
   "execution_count": 248,
   "metadata": {
    "collapsed": false,
    "scrolled": true
   },
   "outputs": [
    {
     "name": "stdout",
     "output_type": "stream",
     "text": [
      "Best parameters set found on development set:\n",
      "{'C': 100}\n",
      "\n",
      "Grid scores on development set:\n",
      "0.832 (+/-0.075) for {'C': 0.01}\n",
      "0.912 (+/-0.040) for {'C': 0.1}\n",
      "0.936 (+/-0.029) for {'C': 0.5}\n",
      "0.945 (+/-0.029) for {'C': 1}\n",
      "0.951 (+/-0.038) for {'C': 5}\n",
      "0.950 (+/-0.037) for {'C': 10}\n",
      "0.951 (+/-0.031) for {'C': 100}\n",
      "0.951 (+/-0.032) for {'C': 200}\n",
      "0.951 (+/-0.034) for {'C': 500}\n",
      "0.951 (+/-0.034) for {'C': 1000}\n",
      "0.951 (+/-0.032) for {'C': 10000}\n",
      "0.951 (+/-0.032) for {'C': 15000}\n",
      "0.949 (+/-0.032) for {'C': 20000}\n",
      "0.949 (+/-0.032) for {'C': 100000}\n"
     ]
    }
   ],
   "source": [
    "# Поиск по сетке с логрегрессией дал ещё +0.5%.\n",
    "grid_search(LogisticRegression(), \n",
    "            [{'C': [0.01, 0.1, 0.5, 1, 5, 10, 100, 200, 500, 1000, 10000, 15000, 20000, 100000]}], \n",
    "            use_pos_tags=True, use_stemming=True)"
   ]
  },
  {
   "cell_type": "code",
   "execution_count": null,
   "metadata": {
    "collapsed": false,
    "scrolled": true
   },
   "outputs": [],
   "source": [
    "# Меняем классификатор на SVM, делаем поиск по сетке, получаем ещё чуть-чуть. Итого: 95.3%\n",
    "grid_search(LinearSVC(), \n",
    "            [{'tol': [0.0001, 0.01], \n",
    "              'C': [0.01, 0.1, 0.5, 1, 5, 10, 100]}], \n",
    "            use_pos_tags=True, use_stemming=True, use_tfidf=True)"
   ]
  },
  {
   "cell_type": "code",
   "execution_count": null,
   "metadata": {
    "collapsed": true
   },
   "outputs": [],
   "source": []
  }
 ],
 "metadata": {
  "kernelspec": {
   "display_name": "Python 3",
   "language": "python",
   "name": "python3"
  },
  "language_info": {
   "codemirror_mode": {
    "name": "ipython",
    "version": 3
   },
   "file_extension": ".py",
   "mimetype": "text/x-python",
   "name": "python",
   "nbconvert_exporter": "python",
   "pygments_lexer": "ipython3",
   "version": "3.5.2"
  }
 },
 "nbformat": 4,
 "nbformat_minor": 2
}
