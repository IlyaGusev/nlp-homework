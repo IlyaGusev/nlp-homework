{
 "cells": [
  {
   "cell_type": "code",
   "execution_count": 3,
   "metadata": {
    "collapsed": true
   },
   "outputs": [],
   "source": [
    "%matplotlib inline\n",
    "\n",
    "import copy\n",
    "import pandas as pd\n",
    "import numpy as np\n",
    "import pylab as pl\n",
    "\n",
    "from matplotlib.pyplot import cm\n",
    "from nltk import word_tokenize\n",
    "from collections import Counter\n",
    "\n",
    "from nltk.collocations import BigramAssocMeasures\n",
    "from nltk.collocations import BigramCollocationFinder\n",
    "from nltk.stem.snowball import SnowballStemmer\n",
    "\n",
    "from sklearn.cluster import KMeans\n",
    "from sklearn.decomposition import TruncatedSVD\n",
    "from sklearn.feature_extraction.text import TfidfVectorizer, CountVectorizer\n",
    "\n",
    "morph_en = SnowballStemmer(\"english\")"
   ]
  },
  {
   "cell_type": "markdown",
   "metadata": {},
   "source": [
    "### Получение текстов ###\n",
    "Получим из изначальных данных тексты. Есть 2 доступных поля: RawText и ExtractedBodyText. Я взял ExtractedBodyText, потому что в первом поле хранится вся история переписки, мне не очень хотелось иметь дело с дубликатами. К тому же, второе поле вполне приемлемо очищено.\n",
    "\n",
    "Сразу же удалим строчки с оставшейся служебной информацией."
   ]
  },
  {
   "cell_type": "code",
   "execution_count": 43,
   "metadata": {
    "collapsed": false
   },
   "outputs": [
    {
     "name": "stdout",
     "output_type": "stream",
     "text": [
      "6721\n",
      "Definitely. I can share around if you like, but it seems like a thin conspiracy theory.\n",
      "This one strains credulity. What do you think?\n",
      "---\n",
      "FYI\n",
      "---\n",
      "Can I call you in 30? Several items.\n",
      "---\n",
      "Secretary Clinton's leadership on Libya\n",
      "as the public face of the U.S. effort in Libya. She was instrumental in securing the authorization, building the coalition,\n",
      "and tightening the noose around Qadhafi and his regime.\n",
      "embassy.\n",
      "sanctions on Gaddafi and his family and refers Qadhafi and his cronies to the ICC\n",
      "address in which she says: \"Colonel Qadhafi and those around him must be held accountable for these acts, which\n",
      "violate international legal obligations and common decency. Through their actions, they have lost the legitimacy to\n",
      "govern. And the people of Libya have made themselves\n",
      "Libya from membership in the Human Rights Council.\n",
      "representative to Benghazi\n",
      "She meets with INC representative Jibril and consults with her colleagues on further UN Security Council action. She\n",
      "notes that a no-fly zone will not be adequate.\n",
      "She is a leading voice for strong UNSC action and a NATO civilian protection mission.\n",
      "1973 authorizes a no-fly zone over Libya and \"all necessary measures\" - code for military action - to protect civilians\n",
      "against Gaddafi's army.\n",
      "civilians. That night, the first U.S. air strikes halt the advance of Gaddafi's forces on Benghazi and target Libya's air\n",
      "defenses.\n",
      "to NATO. She announces the transition in a statement.\n",
      "course of several days, all three devote aircraft to the mission.\n",
      "Contact Group comprising 20-plus countries to coordinate efforts to protect civilians and plan for a post-Qadhafi Libya.\n",
      "She is instrumental in setting up a rotating chair system to ensure regional buy-in.\n",
      "calls for Qadhafi's departure as a political objective, and lays out three clear military objectives: end of attacks and\n",
      "threat of attacks on civilians; the removal of Qadhafi forces from cities they forcibly entered; and the unfettered\n",
      "provision of humanitarian access.\n",
      "temporary financial mechanism to funnel money to the TNC.\n",
      "rebel leaders.\n",
      "democratic transition in Libya.\n",
      "operation.\n",
      "recognizes the TNC as the legitimate government of Libya. She also secures recognition from the other members of the\n",
      "Contact Group.\n",
      "message that the only way to move forward, is for Qadhafi to step down\".\n",
      "the TNC. That package is working through its last hurdles.\n",
      "Early August After military chief Abdel Fattah Younes is killed, S sends a personal message to TNC head Jalil to press for\n",
      "a responsible investigation and a careful and inclusive approach to creating a new executive council.\n",
      "Early August HRC secures written pledges from the TNC to an inclusive, pluralistic democratic transition. She\n",
      "continues to consult with European and Arab colleagues on the evolving situation.\n",
      "---\n",
      "FYI\n"
     ]
    }
   ],
   "source": [
    "def get_texts():\n",
    "    emails = pd.read_csv(\"data/Emails.csv\")\n",
    "    persons = pd.read_csv(\"data/Persons.csv\")\n",
    "\n",
    "    emails.rename(columns={\"Id\": \"EmailId\"}, inplace=True)\n",
    "    data = emails[['EmailId', \"ExtractedBodyText\", \"SenderPersonId\"]]\n",
    "\n",
    "    data = pd.merge(data, persons, left_on=[\"SenderPersonId\"], right_on=\"Id\")\n",
    "    data.rename(columns={\"Name\": \"SenderPersonName\"}, inplace=True)\n",
    "    data.drop([\"Id\"], axis=1, inplace=True)\n",
    "\n",
    "    data = data[data.ExtractedBodyText.notnull()]\n",
    "\n",
    "    texts = data.ExtractedBodyText.tolist()\n",
    "\n",
    "    bad_lines = [\"U.S. Departm\", \"ent of State\", \"STATE-\", \"Case No.\", \"Doc No.\", \"Date:\", \"STATE DEPT\", \"SUBJECT TO\", \"B5\",\n",
    "                 \"B6\", \"1.4\", \"(D)\", \"(B)\", \"(E)\", \"B1\", \"B2\", \"B3\", \"B4\", \"Prom\", \"To:\", \"---\", \"Attachment=\", \"Subject:\", \"Sent:\",\n",
    "                 \"For:\", \"RELEASE IN\", \"@\", \"©\", \"Re:\", \"FW:\", \"Cc:\", \"From\", \"RE:\", \"CC:\", \"Fw:\", \"Your message was delivered\",\n",
    "                 \"UNCLASSIF\", \"ED\", \", January\", \", February \", \", March \", \", April \", \", May \", \", June \",\n",
    "                 \", July \", \", August \", \", September \", \", October \", \", November\", \", December \", \"--\", \"— —\", \"—\", \"###\",\n",
    "                 \"http\", \"Sent from\", \"Sent via\"]\n",
    "    for i in range(len(texts)):\n",
    "        good_lines = []\n",
    "        for line in texts[i].split(\"\\n\"):\n",
    "            is_bad_line = False\n",
    "            for bad_line in bad_lines:\n",
    "                if bad_line in line:\n",
    "                    is_bad_line = True\n",
    "            if not is_bad_line:\n",
    "                good_lines.append(line)\n",
    "        texts[i] = \"\\n\".join(good_lines)\n",
    "    return texts\n",
    "\n",
    "texts = get_texts()\n",
    "print(len(texts))\n",
    "print(\"\\n---\\n\".join(texts[50:55]))"
   ]
  },
  {
   "cell_type": "markdown",
   "metadata": {},
   "source": [
    "### Токенизация ###\n",
    "Используем nltk.word_tokenize, оставляем только буквенно-числовые токены и '. Уберём некоторые стопслова."
   ]
  },
  {
   "cell_type": "code",
   "execution_count": 5,
   "metadata": {
    "collapsed": false,
    "scrolled": true
   },
   "outputs": [
    {
     "name": "stdout",
     "output_type": "stream",
     "text": [
      "definitely i can share around if you like it seems like thin conspiracy theory this one strains credulity what do you think\n",
      "---\n",
      "fyi\n",
      "---\n",
      "can i call you 30 several items\n",
      "---\n",
      "secretary clinton leadership libya public face effort libya she was instrumental securing authorization building coalition tightening noose around qadhafi his regime embassy sanctions gaddafi his family refers qadhafi his cronies icc address which she says colonel qadhafi those around him must be held accountable these acts which violate international legal obligations common decency through their actions they have lost legitimacy govern people libya have made themselves libya membership human rights council representative benghazi she meets inc representative jibril consults her colleagues further un security council action she notes that zone will not be adequate she is leading voice strong unsc action nato civilian protection mission 1973 authorizes zone over libya all necessary measures code military action protect civilians against gaddafi army civilians that night first air strikes halt advance gaddafi forces benghazi target libya air defenses nato she announces transition statement course several days all three devote aircraft mission contact group comprising countries coordinate efforts protect civilians plan libya she is instrumental setting up rotating chair system ensure regional calls qadhafi departure political objective lays out three clear military objectives end attacks threat attacks civilians removal qadhafi forces cities they forcibly entered unfettered provision humanitarian access temporary financial mechanism funnel money tnc rebel leaders democratic transition libya operation recognizes tnc legitimate government libya she also secures recognition other members contact group message that only way move forward is qadhafi step down tnc that package is working through its last hurdles early august after military chief abdel fattah younes is killed s sends personal message tnc head jalil press responsible investigation careful inclusive approach creating new executive council early august hrc secures written pledges tnc inclusive pluralistic democratic transition she continues consult european arab colleagues evolving situation\n",
      "---\n",
      "fyi\n"
     ]
    }
   ],
   "source": [
    "def tokenize(text, stopwords):\n",
    "    tokens = word_tokenize(text)\n",
    "    clean_tokens = [w.lower() for w in tokens if w.isalnum() or \"'\" in w]\n",
    "    bad_tokens = ['h', \"'1.com\", \"'.iyar\", \".i't\", \"''\"]\n",
    "    return [token for token in clean_tokens if token not in bad_tokens and token not in stopwords]\n",
    "\n",
    "def get_tokenized_texts(texts, stopwords):\n",
    "    tokenized_texts = []\n",
    "    for text in texts:\n",
    "        clean_tokens = tokenize(text, stopwords)\n",
    "        tokenized_texts.append(clean_tokens)\n",
    "    return tokenized_texts\n",
    "\n",
    "stopwords = [\"the\", \"a\", \"an\", \"of\", \"to\", \"and\", \"for\", \"in\", \"'s\", \"on\", \"with\", \"as\", \"at\", \"from\", \"but\"]\n",
    "tokenized_texts = get_tokenized_texts(texts, stopwords)\n",
    "print(\"\\n---\\n\".join([\" \".join(text) for text in tokenized_texts[50:55]]))"
   ]
  },
  {
   "cell_type": "markdown",
   "metadata": {},
   "source": [
    "### Статистика по биграммам и collocations ###\n",
    "Топ-10 биграмм выгляит неплохо.\n",
    "\n",
    "На первый взгляд, может показаться, что в collocations какая-то ерунда. На самом деле, это: \"81701 vat\" - размер налога, \"e98 1xy\" - район Лондона, \"Har Homa\" - поселение в Израиле, \"Jassim Jabr\" - премьер-министр Катара, \"lame duck\" - неформальное прозвище президента с определёнными свойствами, \"PhD Purdue\" - указание на степень, полученную в университете Пердью, \"SVC 217\" - комната в Белом доме (но это не точно), \"SW1H OBL\" - указание на адрес в Лондоне, \"Ashfaq Parvez\" - пакистанский генерал."
   ]
  },
  {
   "cell_type": "code",
   "execution_count": 24,
   "metadata": {
    "collapsed": false,
    "scrolled": false
   },
   "outputs": [
    {
     "name": "stdout",
     "output_type": "stream",
     "text": [
      "[('it is', 534), ('will be', 512), ('secretary office', 458), ('state department', 443), ('united states', 427), ('white house', 396), (\"i 'm\", 393), (\"do n't\", 368), ('this is', 361), ('has been', 357)]\n",
      "[('81701', 'vat'), ('e98', '1xy'), ('har', 'homa'), ('hong', 'kong'), ('jassim', 'jabr'), ('lame', 'duck'), ('phd', 'purdue'), ('svc', '217'), ('sw1h', 'obl'), ('ashfaq', 'parvez')]\n"
     ]
    }
   ],
   "source": [
    "def count_ngrams_freq(tokenized_texts, n):\n",
    "    ngrams = Counter()\n",
    "    for text in tokenized_texts:\n",
    "        for i in range(len(text)-n+1):\n",
    "            ngram = \" \".join(text[i:i+n])\n",
    "            ngrams[ngram] += 1\n",
    "    return ngrams\n",
    "\n",
    "\n",
    "def count_bigrams_mi(tokenized_texts):\n",
    "    bigram_measures = BigramAssocMeasures()\n",
    "    finder = BigramCollocationFinder.from_words([token for text in tokenized_texts for token in text+['EOF']])\n",
    "    finder.apply_freq_filter(3)\n",
    "    return finder.nbest(bigram_measures.pmi, 10)\n",
    "\n",
    "print(count_ngrams_freq(tokenized_texts, 2).most_common(10))\n",
    "print(count_bigrams_mi(tokenized_texts))"
   ]
  },
  {
   "cell_type": "markdown",
   "metadata": {},
   "source": [
    "### Выделяем признаки ###\n",
    "Знакомая функция, используем TfIdf и стемминг."
   ]
  },
  {
   "cell_type": "code",
   "execution_count": 7,
   "metadata": {
    "collapsed": false
   },
   "outputs": [
    {
     "name": "stdout",
     "output_type": "stream",
     "text": [
      "(6721, 244438)\n"
     ]
    }
   ],
   "source": [
    "def stem_sentence(sentence):\n",
    "    words = sentence.split(\" \")\n",
    "    for j in range(len(words)):\n",
    "        words[j] = morph_en.stem(words[j])\n",
    "    return \" \".join(words)\n",
    "\n",
    "def bow(train_texts, test_texts, stem=False, tokenizer=None, preprocessor=None,\n",
    "        use_tfidf=False, max_features=None, bow_ngrams=(1, 2), analyzer='word'):\n",
    "    train = copy.deepcopy(train_texts)\n",
    "    test = copy.deepcopy(test_texts)\n",
    "    if stem:\n",
    "        for i in range(len(train)):\n",
    "            train[i] = stem_sentence(train[i])\n",
    "        for i in range(len(test)):\n",
    "            test[i] = stem_sentence(test[i])\n",
    "\n",
    "    if use_tfidf:\n",
    "        vectorizer = TfidfVectorizer(analyzer=analyzer, ngram_range=bow_ngrams, tokenizer=tokenizer,\n",
    "                                     preprocessor=preprocessor, max_features=max_features)\n",
    "    else:\n",
    "        vectorizer = CountVectorizer(analyzer=analyzer, ngram_range=bow_ngrams, tokenizer=tokenizer,\n",
    "                                     preprocessor=preprocessor, max_features=max_features)\n",
    "    data = train+test\n",
    "    data = vectorizer.fit_transform(data)\n",
    "    train_data = data[:len(train)]\n",
    "    test_data = data[len(train):]\n",
    "    return train_data, test_data\n",
    "\n",
    "train_texts = [\" \".join(text) for text in tokenized_texts]\n",
    "X = bow(train_texts, [], use_tfidf=True, stem=True, bow_ngrams=(1,2))[0]\n",
    "print(X.shape)"
   ]
  },
  {
   "cell_type": "markdown",
   "metadata": {},
   "source": [
    "### Кластеризация ###\n",
    "Ура! Наконец-то кластеризация. Всё просто, используем k-means, количество кластеров я долго и мучительно подбирал. Зря. Почему - расскажу ниже.\n",
    "\n",
    "Для хоть какого-то представления о том, что происходит, уменьшаем размерность пространства признаков до 3 и рисуем 3 проекции, кластеры раскрашиваем.\n",
    "\n",
    "Для каждого кластера выводим - самые частотные слова, самые частотные биграммы и коллокации (на всякий случай)."
   ]
  },
  {
   "cell_type": "code",
   "execution_count": 34,
   "metadata": {
    "collapsed": false
   },
   "outputs": [
    {
     "name": "stdout",
     "output_type": "stream",
     "text": [
      "[0, 0, 0, 2, 2, 2, 4, 0, 0, 0, 2, 4, 3, 2, 2, 0, 6, 4, 2, 6, 2, 6, 0, 2, 3, 5, 2, 2, 6, 4, 3, 2, 2, 6, 6, 4, 2, 4, 0, 2, 2, 3, 0, 6, 6, 4, 0, 2, 2, 2, 6, 0, 1, 3, 0, 3, 0, 2, 0, 2, 2, 2, 6, 6, 2, 2, 5, 2, 6, 2, 2, 2, 6, 2, 6, 6, 6, 6, 6, 6, 2, 6, 2, 3, 2, 6, 6, 2, 2, 6, 2, 3, 2, 2, 2, 6, 2, 2, 2, 2]\n"
     ]
    }
   ],
   "source": [
    "def clustering(X, n_clusters):\n",
    "    km = KMeans(n_clusters=n_clusters, init='k-means++', max_iter=100, n_init=5, verbose=False, random_state=42)\n",
    "    km.fit(X)\n",
    "    y = km.labels_.tolist()\n",
    "    return y\n",
    "\n",
    "n_clusters = 9\n",
    "y = clustering(X, n_clusters)\n",
    "print(y[:100])"
   ]
  },
  {
   "cell_type": "code",
   "execution_count": 35,
   "metadata": {
    "collapsed": false
   },
   "outputs": [
    {
     "data": {
      "image/png": "[encoded data removed]",
      "text/plain": [
       "<matplotlib.figure.Figure at 0x7fb76e3a86a0>"
      ]
     },
     "metadata": {},
     "output_type": "display_data"
    },
    {
     "data": {
      "image/png": "[encoded data removed]",
      "text/plain": [
       "<matplotlib.figure.Figure at 0x7fb76ee61dd8>"
      ]
     },
     "metadata": {},
     "output_type": "display_data"
    },
    {
     "data": {
      "image/png": "[encoded data removed]",
      "text/plain": [
       "<matplotlib.figure.Figure at 0x7fb76dcc7898>"
      ]
     },
     "metadata": {},
     "output_type": "display_data"
    }
   ],
   "source": [
    "def reduce_dimensionality(X):\n",
    "    svd = TruncatedSVD(3)\n",
    "    return svd.fit_transform(X)\n",
    "\n",
    "\n",
    "def plot2D(X, y, i, j, n_clusters):\n",
    "    x_min, x_max = X[:, i].min() + 0.8, X[:, i].max() - 1.1\n",
    "    y_min, y_max = X[:, j].min() + 0.8, X[:, j].max() - 1.1\n",
    "    pl.figure(1)\n",
    "    pl.clf()\n",
    "\n",
    "    color = iter(cm.rainbow(np.linspace(0, 1, n_clusters)))\n",
    "    df = pd.DataFrame(dict(x=X[:, i], y=X[:, j], label=y))\n",
    "    groups = df.groupby('label')\n",
    "    for label, group in groups:\n",
    "        pl.plot(group.x, group.y, 'k.', markersize=2, color=next(color))\n",
    "\n",
    "    pl.title('K-means clustering')\n",
    "    pl.xlim(x_min, x_max)\n",
    "    pl.ylim(y_min, y_max)\n",
    "    pl.xticks(())\n",
    "    pl.yticks(())\n",
    "    pl.show()\n",
    "\n",
    "reduced = reduce_dimensionality(X)\n",
    "plot2D(reduced, y, 0, 1, n_clusters)\n",
    "plot2D(reduced, y, 1, 2, n_clusters)\n",
    "plot2D(reduced, y, 0, 2, n_clusters)"
   ]
  },
  {
   "cell_type": "code",
   "execution_count": 22,
   "metadata": {
    "collapsed": false
   },
   "outputs": [
    {
     "name": "stdout",
     "output_type": "stream",
     "text": [
      "-----------------------------0 CLUSTER-----------------------------\n",
      "Cluster of 492 texts, with 1.0020325203252032 average word length\n",
      "Common words: fyi, c\n",
      "Common bigrams: fyi c\n",
      "MI: EOF fyi, fyi EOF\n",
      "-----------------------------1 CLUSTER-----------------------------\n",
      "Cluster of 541 texts, with 15.308687615526802 average word length\n",
      "Common words: call, you, i, can, will, me, is, do, if, have\n",
      "Common bigrams: can you, will call, call sheet, i 'm, call you, you call, if you, call me, i can, you can\n",
      "MI: viktor bout, department operations, nita lowey, sporadic access, middle east, checking periodically, state department, chris hill, overseas only, traveling overseas\n",
      "-----------------------------2 CLUSTER-----------------------------\n",
      "Cluster of 3030 texts, with 12.594389438943894 average word length\n",
      "Common words: i, is, you, will, that, this, it, have, see, 2\n",
      "Common bigrams: i 'm, 1 1, i will, see below, 2 2, 2 1, will be, 2009 2009, i have, sullivan jacob\n",
      "MI: cingular xpress, los angeles, debt limit, se tember, downing st, 1709 bb, aboul gheit, favorability rating, motion proceed, haley barbour\n",
      "-----------------------------3 CLUSTER-----------------------------\n",
      "Cluster of 399 texts, with 710.6967418546366 average word length\n",
      "Common words: that, is, it, he, was, by, be, his, have, this\n",
      "Common bigrams: it is, united states, has been, white house, will be, there is, do n't, would be, this is, have been\n",
      "MI: 243 8054, 81701 vat, buenos aires, e98 1xy, har homa, hong kong, phd purdue, pickup truck, abdul ghani, ashfaq parvez\n",
      "-----------------------------4 CLUSTER-----------------------------\n",
      "Cluster of 75 texts, with 2.28 average word length\n",
      "Common words: do, will, yes, thanks, great, roger, yup, copy, that, pj\n",
      "Common bigrams: will do, yes will, roger will, great will, do thnx, yup will, do pj, do habedin, thanks will, do thank\n",
      "MI: yes will, will do, EOF yes, do EOF, EOF will\n",
      "-----------------------------5 CLUSTER-----------------------------\n",
      "Cluster of 41 texts, with 4.951219512195122 average word length\n",
      "Common words: good, sounds, will, news, fyi, that, stuff, know, i, do\n",
      "Common bigrams: sounds good, good news, good stuff, fyi good, follow up, lona valmoro, good will, good idea, will follow, ok sounds\n",
      "MI: EOF fyi, good news, good stuff, sounds good, EOF sounds, fyi good, good EOF, EOF good\n",
      "-----------------------------6 CLUSTER-----------------------------\n",
      "Cluster of 1891 texts, with 39.313061872025386 average word length\n",
      "Common words: you, i, pm, am, we, it, will, secretary, is, office\n",
      "Common bigrams: secretary office, state department, pm secretary, office pm, am secretary, private residence, office am, will be, i will, pm depart\n",
      "MI: administers oath, buenos aires, cardinal stadium, definitive sourcing, guido westerwelle, jassim jabr, roy spence, svc 217, sw1h obl, mahmoud abbas\n",
      "-----------------------------7 CLUSTER-----------------------------\n",
      "Cluster of 121 texts, with 2.3801652892561984 average word length\n",
      "Common words: print, pls, pis, me, copies, 3, original, two, outreach, importance\n",
      "Common bigrams: pls print, pis print, print me, 3 copies, two copies, print 3, print two, asked pls, print original, print thx\n",
      "MI: pis print, pls print, EOF pis, me EOF, print me, EOF pls, print EOF, copies EOF\n",
      "-----------------------------8 CLUSTER-----------------------------\n",
      "Cluster of 131 texts, with 1.0 average word length\n",
      "Common words: ok\n",
      "Common bigrams: \n",
      "MI: ok EOF, EOF ok\n"
     ]
    }
   ],
   "source": [
    "clusters = [[] for i in range(n_clusters)]\n",
    "for i in range(len(y)):\n",
    "    clusters[y[i]].append(tokenized_texts[i])\n",
    "\n",
    "def describe_cluster(cluster):\n",
    "    size = len(cluster)\n",
    "    common_words = count_ngrams_freq(cluster, 1).most_common(10)\n",
    "    common_bigrams = count_ngrams_freq(cluster, 2).most_common(10)\n",
    "    mi = count_bigrams_mi(cluster)\n",
    "    mean_len = sum([len(text) for text in cluster])/len(cluster)\n",
    "    description = \"Cluster of \" + str(size) + \" texts, with \" + str(mean_len) + \" average word length\\n\"\n",
    "    common_words = \", \".join([pair[0] for pair in common_words])\n",
    "    description += \"Common words: \" + str(common_words) + \"\\n\"\n",
    "    common_bigrams = \", \".join([pair[0] for pair in common_bigrams])\n",
    "    description += \"Common bigrams: \" + str(common_bigrams) + \"\\n\"\n",
    "    mi = \", \".join([\" \".join(pair) for pair in mi])\n",
    "    description += \"MI: \" + str(mi)\n",
    "    print(description)\n",
    "    \n",
    "for i in range(n_clusters):\n",
    "    print(\"-----------------------------\" + str(i) + \" CLUSTER\" + \"-----------------------------\")\n",
    "    describe_cluster(clusters[i])"
   ]
  },
  {
   "cell_type": "markdown",
   "metadata": {},
   "source": [
    "### Промежуточные итоги ###\n",
    "Ну, очевидно, что получилось не очень. Какие кластеры чёткие: ok-кластер, print-кластер, \"will do\"-кластер, \"fyi\"-кластер (FYI-for your information). Ещё можно заметить кластеры звонков (call) и кластер мест (pm, am, office, residence), но они слишком большие, чтобы быть правдой. Все перечисленные выше кластеры \"стабильны\" и устойчивы к перезапускам, изменению random seed'а и минимальным изменениям набора стоп-слов. Очевидно, что  \"выбросы\" на проекциях - представители 4 чётких кластеров.\n",
    "\n",
    "Так давайте избавимся от них, чтобы лучше выделить остальные кластеры! Избавляться будем очень просто: увеличим список стоп-слов и отрежем все тексты, в которых после токенизации меньше 4 токенов."
   ]
  },
  {
   "cell_type": "code",
   "execution_count": 44,
   "metadata": {
    "collapsed": false,
    "scrolled": true
   },
   "outputs": [
    {
     "name": "stdout",
     "output_type": "stream",
     "text": [
      "4092\n",
      "attached latest version speech incorporating comments sandy strobe well edits cheryl lissa while improved grown length now bit shorter than senate confirmation testimony places cut want see full make own assessments revised text dennis going sharpen hone sections middle east iran ask holbrooke work piece available any time discuss 142\n",
      "---\n",
      "jake sullivan reines philippe special use only brazil mexico\n",
      "---\n",
      "jim raise greek ambassador yesterday told aware situation come back report jim got corfu\n",
      "---\n",
      "tom backgrounder definitely played down expectations\n",
      "---\n",
      "happy know jack been working weekend behalf good friends palau getting new numbers next round negotiations stay top though no matter don't think 100 percent satisfied\n"
     ]
    }
   ],
   "source": [
    "hard_stop = [\"the\", \"a\", \"an\", \n",
    "             \"of\", \"to\", \"and\", \"for\", \"in\", \"'s\", \"on\", \"with\", \"as\", \"at\", \n",
    "             \"from\", \"but\", \"or\", \"just\", \"so\", \"by\", \"if\", \"about\", \"just\", \"also\", \"out\", \"up\",\n",
    "             \"we\", \"i\", \"they\", \"you\", \"he\", \"she\", \"his\", \"her\", \"my\", \"it\", \"your\", \"me\", \"u\", \"our\", \"him\", \"w\", \"their\", \"its\",\n",
    "             \"be\", \"is\", \"are\", \"will\", \"would\", \"have\", \"has\", \"was\", \"were\", \"am\", \"had\", \"can\",\n",
    "             \"1\", \"2\",\n",
    "             \"that\", \"this\", \"there\", \n",
    "             \"not\", \"n't\",\n",
    "             \"do\", \"did\",\n",
    "             \"yes\", \n",
    "             \"'ll\", \"'m\", \"'d\",\n",
    "             \"who\", \"which\", \"what\", \"when\",\n",
    "             \"below\",\n",
    "             \"can\"]\n",
    "\n",
    "def get_tokenized_texts_hard(texts, stopwords):\n",
    "    tokenized_texts = []\n",
    "    for text in texts:\n",
    "        clean_tokens = tokenize(text, stopwords)\n",
    "        clean_tokens = [token for token in clean_tokens if len(token) >= 1]\n",
    "        if len(clean_tokens) < 4:\n",
    "            continue\n",
    "        tokenized_texts.append(clean_tokens)\n",
    "    return tokenized_texts\n",
    "tokenized_texts_hard = get_tokenized_texts_hard(texts, hard_stop)\n",
    "print(len(tokenized_texts_hard))\n",
    "print(\"\\n---\\n\".join([\" \".join(text) for text in tokenized_texts_hard[50:55]]))"
   ]
  },
  {
   "cell_type": "code",
   "execution_count": 45,
   "metadata": {
    "collapsed": false,
    "scrolled": false
   },
   "outputs": [
    {
     "data": {
      "image/png": "[encoded data removed]",
      "text/plain": [
       "<matplotlib.figure.Figure at 0x7fb76cd6db00>"
      ]
     },
     "metadata": {},
     "output_type": "display_data"
    },
    {
     "data": {
      "image/png": "[encoded data removed]",
      "text/plain": [
       "<matplotlib.figure.Figure at 0x7fb76c903ac8>"
      ]
     },
     "metadata": {},
     "output_type": "display_data"
    },
    {
     "data": {
      "image/png": "[encoded data removed]",
      "text/plain": [
       "<matplotlib.figure.Figure at 0x7fb76c8adb00>"
      ]
     },
     "metadata": {},
     "output_type": "display_data"
    }
   ],
   "source": [
    "train_texts_hard = [\" \".join(text) for text in tokenized_texts_hard]\n",
    "X_hard = bow(train_texts_hard, [], use_tfidf=True, stem=True, bow_ngrams=(1,2))[0]\n",
    "n_clusters = 10\n",
    "y = clustering(X_hard, n_clusters)\n",
    "\n",
    "reduced = reduce_dimensionality(X_hard)\n",
    "plot2D(reduced, y, 0, 1, n_clusters)\n",
    "plot2D(reduced, y, 1, 2, n_clusters)\n",
    "plot2D(reduced, y, 0, 2, n_clusters)\n",
    "\n",
    "clusters = [[] for i in range(n_clusters)]\n",
    "for i in range(len(y)):\n",
    "    clusters[y[i]].append(tokenized_texts_hard[i])"
   ]
  },
  {
   "cell_type": "code",
   "execution_count": 46,
   "metadata": {
    "collapsed": false,
    "scrolled": false
   },
   "outputs": [
    {
     "name": "stdout",
     "output_type": "stream",
     "text": [
      "-----------------------------0 CLUSTER-----------------------------\n",
      "Cluster of 234 texts, with 20.021367521367523 average word length\n",
      "Common words: know, let, want, all, get, time, good, any, see, work\n",
      "Common bigrams: let know, let discuss, know any, know how, pls let, please let, know want, next week, let us, know time\n",
      "MI: en route, financing terrorism, cheryl d, mills cheryl, middle east, foreign minister, mexican employee, cherie blair, team columbia, huma abedin\n",
      "-----------------------------1 CLUSTER-----------------------------\n",
      "Cluster of 375 texts, with 610.1333333333333 average word length\n",
      "Common words: obama, said, more, president, one, been, new, all, people, us\n",
      "Common bigrams: united states, white house, more than, new york, secretary state, health care, state department, foreign policy, prime minister, national security\n",
      "MI: 243 8054, 81701 vat, buenos aires, e98 1xy, har homa, hong kong, phd purdue, pickup truck, abdul ghani, brent scowcroft\n",
      "-----------------------------2 CLUSTER-----------------------------\n",
      "Cluster of 56 texts, with 12.982142857142858 average word length\n",
      "Common words: state, valmoro, lona, secretary, assistant, special, direct, 202, s, ecial\n",
      "Common bigrams: lona valmoro, secretary state, assistant secretary, special assistant, valmoro special, state direct, state 202, 202 direct, valmoro s, ecial assistant\n",
      "MI: hillary clinton, s ecial, clinton 202, 202 direct, ecial assistant, special assistant, morning lona, secretary state, valmoro special, EOF actually\n",
      "-----------------------------3 CLUSTER-----------------------------\n",
      "Cluster of 2121 texts, with 21.198019801980198 average word length\n",
      "Common words: all, see, get, think, now, good, should, more, work, today\n",
      "Common bigrams: washington dc, make sure, all best, last night, next week, strategic dialogue, press clips, dialogue press, 2201 c, washington convention\n",
      "MI: buenos aires, cingular xpress, definitive sourcing, gall bladder, los angeles, sw1h obl, hongju koh, se tember, vital voices, wendy sherman\n",
      "-----------------------------4 CLUSTER-----------------------------\n",
      "Cluster of 351 texts, with 12.98005698005698 average word length\n",
      "Common words: call, called, sheet, calls, ops, fm, want, now, get, today\n",
      "Common bigrams: call sheet, call list, call back, call sheets, want call, call after, asking talk, add call, should call, before call\n",
      "MI: viktor bout, middle east, nita lowey, chris hill, afternoon evening, bill burns, last night, pdb coming, robinson mcguinness, prime minister\n",
      "-----------------------------5 CLUSTER-----------------------------\n",
      "Cluster of 80 texts, with 158.1125 average word length\n",
      "Common words: pm, office, secretary, room, meeting, arrive, state, route, depart, department\n",
      "Common bigrams: secretary office, state department, pm secretary, office pm, private residence, pm depart, pm arrive, conference room, office time, secretary conference\n",
      "MI: aboul gheit, administers oath, cardinal stadium, democracy activists, four seasons, guido westerwelle, jassim jabr, scott gration, svc 217, attend plus\n",
      "-----------------------------6 CLUSTER-----------------------------\n",
      "Cluster of 487 texts, with 19.05133470225873 average word length\n",
      "Common words: tomorrow, back, time, talk, morning, today, get, see, work, like\n",
      "Common bigrams: tomorrow morning, get back, wants talk, go back, next week, any time, tomorrow night, first thing, see tomorrow, talk tomorrow\n",
      "MI: 02138 ph, cambridge ma, eliot cambridge, ma 02138, condi rice, dennis ross, jacqueline newmyer, sleeping pattern, proximity talks, israeli palestinian\n",
      "-----------------------------7 CLUSTER-----------------------------\n",
      "Cluster of 99 texts, with 13.818181818181818 average word length\n",
      "Common words: huma, abedin, sullivan, j, cheryl, mills, jacob, d, fyi, lona\n",
      "Common bigrams: sullivan jacob, jacob j, mills cheryl, abedin huma, cheryl d, huma abedin, cheryl mills, d sullivan, huma sullivan, reines philippe\n",
      "MI: burns william, mchale judith, mini schedule, verma richard, crowley philip, strobe talbott, reines philippe, richard r, pir preines, lona valmoro\n",
      "-----------------------------8 CLUSTER-----------------------------\n",
      "Cluster of 111 texts, with 8.954954954954955 average word length\n",
      "Common words: pls, call, print, add, list, thx, copy, all, send, copies\n",
      "Common bigrams: pls print, pls add, call list, pls call, pls sure, add call, pls keep, pls send, pls put, pls tell\n",
      "MI: thru ops, call thru, call list, add call, today EOF, oscar pls, pls keep, pls print, pls sure, pls add\n",
      "-----------------------------9 CLUSTER-----------------------------\n",
      "Cluster of 178 texts, with 12.320224719101123 average word length\n",
      "Common words: thx, message, phone, cell, get, received, see, call, try, all\n",
      "Common bigrams: original message, jan 2010, 2010 received, recipient address, system administrator, following diagnostic, provide following, microsoft smtpsvc, message provide, address try\n",
      "MI: 1709 bb, 647 1709, 202 647, sun 24, esmtp id, someone else, trying reach, 10 mapi, administrators generating, delivery failed\n"
     ]
    }
   ],
   "source": [
    "for i in range(n_clusters):\n",
    "    print(\"-----------------------------\" + str(i) + \" CLUSTER\" + \"-----------------------------\")\n",
    "    describe_cluster(clusters[i])"
   ]
  },
  {
   "cell_type": "markdown",
   "metadata": {
    "collapsed": true
   },
   "source": [
    "### Новая надежда ###\n",
    "Ну, во-первых, почему именно 10 кластеров? Тут я каюсь, опирался на проекции. И когда кластеры стали визуально отделимы при некоторых настройках, остановился. Выше - чуть-чуть другие настройки и имеено 9 кластеров не так очевидны.\n",
    "\n",
    "Во-вторых, мы получили: кластер о просьбах сообщить о чём-то (know, let, want), правдоподобный кластер звонков (call), правдоподобный кластер встреч и мест (pm, office, meeting, depart, коллокация four seasons), просьбы о распечатке, звонке, рассказе (pls call, pls sure, add call, pls keep), обсуждение Обамы и его политики(obama, president, people, средняя длина ~ 600 слов), мусорный кластер с именами получателей (huma, abedin, sullivan), переписка с одной из секретарей (almoro, lona, state, secretary), кластер про планирование (tomorrow, morning, today, time), кластер с системными ошибками (original message, recipient address, system administrator) и все остальные письма.\n",
    "\n",
    "\n",
    "\n",
    "Вообще можно продолжить \"масштабировать\", но как по мне для учебного задания этого вполне хватит."
   ]
  },
  {
   "cell_type": "markdown",
   "metadata": {},
   "source": [
    "### Асессмент ###\n",
    "Я придумал 2 метода асессмента - один долгий и один быстрый.\n",
    "\n",
    "Долгий - даём набор писем, даём набор названий кластеров (тот, который у нас получился) и просим отнести письмо к одному из них. Считаем точность и полноту по каждому кластеру. Вместе с интерпртируемостью сразу оценивается и точность кластеризации.\n",
    "\n",
    "Быстрый - берём асессора, даём ему вывод описания кластеров, просим рассказать, как бы он это обозвал. Сравниваем с тем, как обозвали это мы.\n",
    "\n",
    "Я сделал быстрый асессмент на человеке, очень далёком от анализа текстов. На примерно 3/4 кластеров наши \"названия\" концептуально совпали."
   ]
  },
  {
   "cell_type": "code",
   "execution_count": null,
   "metadata": {
    "collapsed": true
   },
   "outputs": [],
   "source": []
  }
 ],
 "metadata": {
  "kernelspec": {
   "display_name": "Python 3",
   "language": "python",
   "name": "python3"
  },
  "language_info": {
   "codemirror_mode": {
    "name": "ipython",
    "version": 3
   },
   "file_extension": ".py",
   "mimetype": "text/x-python",
   "name": "python",
   "nbconvert_exporter": "python",
   "pygments_lexer": "ipython3",
   "version": "3.5.2"
  }
 },
 "nbformat": 4,
 "nbformat_minor": 2
}
